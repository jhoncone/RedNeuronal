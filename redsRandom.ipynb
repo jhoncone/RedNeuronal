{
  "nbformat": 4,
  "nbformat_minor": 0,
  "metadata": {
    "colab": {
      "name": "redsRandom.ipynb",
      "provenance": []
    },
    "kernelspec": {
      "name": "python3",
      "display_name": "Python 3"
    }
  },
  "cells": [
    {
      "cell_type": "markdown",
      "metadata": {
        "id": "KOwd4atCzC3a"
      },
      "source": [
        "DESCRIPCION\r\n",
        "Arquitectura y cálculo de la NN feedforward y backforward\r\n",
        "Construir la arquitectura de una red neuronal.\r\n",
        "Las entradas son 0,1, 0,2, 0,7\r\n",
        "La salida esperada es 1.0. 0.0,0.0\r\n",
        "Inicializar pesos de forma aleatoria (0.0 < peso < 1.0) o según ejemplo de clase (datos de pesos)\r\n",
        "Inicializar los sesgos en 1.0\r\n",
        "\r\n",
        "Detalles de la Arquitectura:\r\n",
        "Construir una red neuronal Feed Forward con 2 capas ocultas (h1,h2).\r\n",
        "Con 3 neuronas de salida output\r\n",
        "Todas las capas tendrán 3 neuronas cada una.\r\n",
        "La 1ª y 2ª capa oculta tendrán Relu y Sigmoide como funciones de activación.\r\n",
        "La capa final de salida tendrá función de activación Softmax."
      ]
    },
    {
      "cell_type": "code",
      "metadata": {
        "id": "Y0nIheyBzEu8"
      },
      "source": [
        "import numpy as np#libreria a utilizar"
      ],
      "execution_count": null,
      "outputs": []
    },
    {
      "cell_type": "markdown",
      "metadata": {
        "id": "fXAAytuG6kbU"
      },
      "source": [
        "Version con pesos fijos\r\n"
      ]
    },
    {
      "cell_type": "markdown",
      "metadata": {
        "id": "4_Hgsyg_7fYA"
      },
      "source": [
        "Para la capa 1"
      ]
    },
    {
      "cell_type": "code",
      "metadata": {
        "id": "sKCW36EU7hQk"
      },
      "source": [
        "inputs1=np.array([0.1,0.2,0.7])\r\n",
        "sesgos=np.array([1.0,1.0,1.0])\r\n",
        "\r\n",
        "matriz1=np.array([[0.1 ,0.2 , 0.3],\r\n",
        "                 [0.3,0.2,0.7],\r\n",
        "                 [0.4,0.3,0.9]])"
      ],
      "execution_count": null,
      "outputs": []
    },
    {
      "cell_type": "code",
      "metadata": {
        "colab": {
          "base_uri": "https://localhost:8080/"
        },
        "id": "u8uG7teU8zpH",
        "outputId": "9d57d0dd-03a5-4c6a-a626-0fb020ecf4c2"
      },
      "source": [
        "compute=np.matmul(inputs1,matriz1)\r\n",
        "z=compute+sesgos\r\n",
        "z"
      ],
      "execution_count": null,
      "outputs": [
        {
          "output_type": "execute_result",
          "data": {
            "text/plain": [
              "array([1.35, 1.27, 1.8 ])"
            ]
          },
          "metadata": {
            "tags": []
          },
          "execution_count": 53
        }
      ]
    },
    {
      "cell_type": "markdown",
      "metadata": {
        "id": "o1srj-y247Fx"
      },
      "source": [
        "Para la capa 2"
      ]
    },
    {
      "cell_type": "code",
      "metadata": {
        "id": "LX-Yz1nn0FWE"
      },
      "source": [
        "inputs2=np.array([1.35,1.27,1.8])#son los valores de la capa anterior con relu\r\n",
        "sesgos=np.array([1.0,1.0,1.0])"
      ],
      "execution_count": null,
      "outputs": []
    },
    {
      "cell_type": "code",
      "metadata": {
        "id": "eXwvqd3wzVxL"
      },
      "source": [
        "matriz2=np.array([[0.2 ,0.3 , 0.5],\r\n",
        "                 [0.3,0.5,0.7],\r\n",
        "                 [0.6,0.4,0.8]])"
      ],
      "execution_count": null,
      "outputs": []
    },
    {
      "cell_type": "code",
      "metadata": {
        "id": "d-mrebk00GXi"
      },
      "source": [
        "compute=np.matmul(inputs2,matriz2)"
      ],
      "execution_count": null,
      "outputs": []
    },
    {
      "cell_type": "code",
      "metadata": {
        "id": "MRvyCe-s1G6X"
      },
      "source": [
        "z=compute+sesgos"
      ],
      "execution_count": null,
      "outputs": []
    },
    {
      "cell_type": "code",
      "metadata": {
        "colab": {
          "base_uri": "https://localhost:8080/"
        },
        "id": "BM0Sf7ja1Mga",
        "outputId": "c69f999a-5782-4ae2-c926-0b9c3232a3f0"
      },
      "source": [
        "z"
      ],
      "execution_count": null,
      "outputs": [
        {
          "output_type": "execute_result",
          "data": {
            "text/plain": [
              "array([2.731, 2.76 , 4.004])"
            ]
          },
          "metadata": {
            "tags": []
          },
          "execution_count": 24
        }
      ]
    },
    {
      "cell_type": "code",
      "metadata": {
        "id": "iLOayUqX1NlF"
      },
      "source": [
        "# funcion sigmoide \r\n",
        "def sigmoid(x):\r\n",
        "    return 1 / (1 + np.exp(-x))\r\n"
      ],
      "execution_count": null,
      "outputs": []
    },
    {
      "cell_type": "code",
      "metadata": {
        "id": "i-AQw4Ak1m6Y"
      },
      "source": [
        "ouputs=sigmoid(z)"
      ],
      "execution_count": null,
      "outputs": []
    },
    {
      "cell_type": "code",
      "metadata": {
        "colab": {
          "base_uri": "https://localhost:8080/"
        },
        "id": "ybAvzOaG15fg",
        "outputId": "8b183616-3ce1-4181-ea10-f5a9300b2647"
      },
      "source": [
        "ouputs"
      ],
      "execution_count": null,
      "outputs": [
        {
          "output_type": "execute_result",
          "data": {
            "text/plain": [
              "array([0.93883129, 0.94047563, 0.9820843 ])"
            ]
          },
          "metadata": {
            "tags": []
          },
          "execution_count": 35
        }
      ]
    },
    {
      "cell_type": "code",
      "metadata": {
        "id": "qf2hT6ej17Ad"
      },
      "source": [
        ""
      ],
      "execution_count": null,
      "outputs": []
    },
    {
      "cell_type": "markdown",
      "metadata": {
        "id": "CAYqDRCu5FqF"
      },
      "source": [
        "para la capa con softmax"
      ]
    },
    {
      "cell_type": "code",
      "metadata": {
        "id": "fVNeqBKs5IIh"
      },
      "source": [
        "inputs3=np.array([0.938,0.94,0.98])#son los valores anteriormente obtenidos en la capa 2 con la funcion simoid\r\n",
        "sesgos=np.array([1.0,1.0,1.0])\r\n",
        "\r\n",
        "matriz3=np.array([[0.2 ,0.3 , 0.5],\r\n",
        "                 [0.3,0.5,0.7],\r\n",
        "                 [0.6,0.4,0.8]])"
      ],
      "execution_count": null,
      "outputs": []
    },
    {
      "cell_type": "code",
      "metadata": {
        "id": "vbbfbgCf5dQm"
      },
      "source": [
        "compute=np.matmul(inputs3,matriz3)"
      ],
      "execution_count": null,
      "outputs": []
    },
    {
      "cell_type": "code",
      "metadata": {
        "colab": {
          "base_uri": "https://localhost:8080/"
        },
        "id": "cOdiph0Z5d9u",
        "outputId": "7ccdc9ec-b475-440d-c904-0d2ae0f006fc"
      },
      "source": [
        "z=compute+sesgos\r\n",
        "z"
      ],
      "execution_count": null,
      "outputs": [
        {
          "output_type": "execute_result",
          "data": {
            "text/plain": [
              "array([2.0576, 2.1434, 2.911 ])"
            ]
          },
          "metadata": {
            "tags": []
          },
          "execution_count": 59
        }
      ]
    },
    {
      "cell_type": "code",
      "metadata": {
        "id": "65mnUeeo5gNY"
      },
      "source": [
        "# funcion softmax\r\n",
        "def softmax(x):\r\n",
        "\r\n",
        "  e_x = np.exp(x - np.max(x))\r\n",
        "  return e_x / e_x.sum(axis=0)"
      ],
      "execution_count": null,
      "outputs": []
    },
    {
      "cell_type": "code",
      "metadata": {
        "id": "rsYUlqx_5mi6"
      },
      "source": [
        "ouputs=softmax(z)"
      ],
      "execution_count": null,
      "outputs": []
    },
    {
      "cell_type": "code",
      "metadata": {
        "colab": {
          "base_uri": "https://localhost:8080/"
        },
        "id": "1LC7vNFW6aIm",
        "outputId": "6e5e2c08-cb59-40d2-88c1-0df005c1c9ac"
      },
      "source": [
        "ouputs"
      ],
      "execution_count": null,
      "outputs": [
        {
          "output_type": "execute_result",
          "data": {
            "text/plain": [
              "array([0.22536717, 0.24555745, 0.52907538])"
            ]
          },
          "metadata": {
            "tags": []
          },
          "execution_count": 62
        }
      ]
    },
    {
      "cell_type": "code",
      "metadata": {
        "id": "2YEI2_nQ6dNa"
      },
      "source": [
        ""
      ],
      "execution_count": null,
      "outputs": []
    },
    {
      "cell_type": "code",
      "metadata": {
        "id": "iw9b2cy9RI_5"
      },
      "source": [
        ""
      ],
      "execution_count": null,
      "outputs": []
    },
    {
      "cell_type": "markdown",
      "metadata": {
        "id": "3fRv4NE3gWuQ"
      },
      "source": [
        "Version con pesos aleatorios"
      ]
    },
    {
      "cell_type": "markdown",
      "metadata": {
        "id": "TLokhljmgnT9"
      },
      "source": [
        "Para la capa 1"
      ]
    },
    {
      "cell_type": "code",
      "metadata": {
        "id": "LI8d7C-yRKa3"
      },
      "source": [
        "import numpy as np"
      ],
      "execution_count": null,
      "outputs": []
    },
    {
      "cell_type": "code",
      "metadata": {
        "colab": {
          "base_uri": "https://localhost:8080/"
        },
        "id": "gP7SxjUEg9dV",
        "outputId": "bd5f4a90-0794-4e87-dfe4-dbc2e50dab69"
      },
      "source": [
        "inputs1=np.array([0.1,0.2,0.7])\r\n",
        "sesgos=np.array([1.0,1.0,1.0])\r\n",
        "\r\n",
        "np.random.seed(1)\r\n",
        "matriz1=abs(np.random.random((3,3))-1) \r\n",
        "print(matriz1)"
      ],
      "execution_count": null,
      "outputs": [
        {
          "output_type": "stream",
          "text": [
            "[[0.582978   0.27967551 0.99988563]\n",
            " [0.69766743 0.85324411 0.90766141]\n",
            " [0.81373979 0.65443927 0.60323253]]\n"
          ],
          "name": "stdout"
        }
      ]
    },
    {
      "cell_type": "code",
      "metadata": {
        "id": "yYlu_yDLg93i"
      },
      "source": [
        ""
      ],
      "execution_count": null,
      "outputs": []
    },
    {
      "cell_type": "code",
      "metadata": {
        "colab": {
          "base_uri": "https://localhost:8080/"
        },
        "id": "gU_vf_V-hhvl",
        "outputId": "77cc86fc-0bf2-4d62-8937-08ebe14905c3"
      },
      "source": [
        "compute=np.matmul(inputs1,matriz1)\r\n",
        "z=compute+sesgos\r\n",
        "z"
      ],
      "execution_count": null,
      "outputs": [
        {
          "output_type": "execute_result",
          "data": {
            "text/plain": [
              "array([1.76744914, 1.65672386, 1.70378361])"
            ]
          },
          "metadata": {
            "tags": []
          },
          "execution_count": 9
        }
      ]
    },
    {
      "cell_type": "code",
      "metadata": {
        "id": "C9IbKboGhiQx"
      },
      "source": [
        ""
      ],
      "execution_count": null,
      "outputs": []
    },
    {
      "cell_type": "markdown",
      "metadata": {
        "id": "N9PfqH0lhr_W"
      },
      "source": [
        "Para la capa 2"
      ]
    },
    {
      "cell_type": "code",
      "metadata": {
        "colab": {
          "base_uri": "https://localhost:8080/"
        },
        "id": "cUnVQ2gBhwKI",
        "outputId": "61e8fe96-67cf-4627-9de1-0fd032908e56"
      },
      "source": [
        "\r\n",
        "inputs2=z#son los valores de la capa anterior con relu\r\n",
        "sesgos=np.array([1.0,1.0,1.0])\r\n",
        "np.random.seed(1)\r\n",
        "matriz2=abs(np.random.random((3,3))-1) \r\n",
        "print(matriz2)"
      ],
      "execution_count": null,
      "outputs": [
        {
          "output_type": "stream",
          "text": [
            "[[0.582978   0.27967551 0.99988563]\n",
            " [0.69766743 0.85324411 0.90766141]\n",
            " [0.81373979 0.65443927 0.60323253]]\n"
          ],
          "name": "stdout"
        }
      ]
    },
    {
      "cell_type": "code",
      "metadata": {
        "colab": {
          "base_uri": "https://localhost:8080/"
        },
        "id": "JeqPRC44h1n3",
        "outputId": "d53357ca-b145-4fb1-a848-5440961c0934"
      },
      "source": [
        "compute=np.matmul(inputs2,matriz2)\r\n",
        "z=compute+sesgos\r\n",
        "z"
      ],
      "execution_count": null,
      "outputs": [
        {
          "output_type": "execute_result",
          "data": {
            "text/plain": [
              "array([4.57266275, 4.02292502, 5.29876899])"
            ]
          },
          "metadata": {
            "tags": []
          },
          "execution_count": 12
        }
      ]
    },
    {
      "cell_type": "code",
      "metadata": {
        "id": "dSYyawyznHs9"
      },
      "source": [
        "# funcion sigmoide \r\n",
        "def sigmoid(x):\r\n",
        "    return 1 / (1 + np.exp(-x))\r\n"
      ],
      "execution_count": null,
      "outputs": []
    },
    {
      "cell_type": "code",
      "metadata": {
        "colab": {
          "base_uri": "https://localhost:8080/"
        },
        "id": "ego40ggsnMpC",
        "outputId": "7f2eaae5-8e9a-4390-c15a-4fd03313b70c"
      },
      "source": [
        "ouputs=sigmoid(z)\r\n",
        "ouputs"
      ],
      "execution_count": null,
      "outputs": [
        {
          "output_type": "execute_result",
          "data": {
            "text/plain": [
              "array([0.98977521, 0.98241427, 0.99502711])"
            ]
          },
          "metadata": {
            "tags": []
          },
          "execution_count": 16
        }
      ]
    },
    {
      "cell_type": "markdown",
      "metadata": {
        "id": "CgVdc69snqXm"
      },
      "source": [
        "Para la capa con sofmax"
      ]
    },
    {
      "cell_type": "code",
      "metadata": {
        "id": "epeWSmyNnXBh"
      },
      "source": [
        ""
      ],
      "execution_count": null,
      "outputs": []
    },
    {
      "cell_type": "code",
      "metadata": {
        "colab": {
          "base_uri": "https://localhost:8080/"
        },
        "id": "4SvCMoT6nmvj",
        "outputId": "00fec4c9-74d0-4d8c-b638-0f398fc7f96d"
      },
      "source": [
        "inputs3=ouputs#son los valores de la capa anterior con sigmoid\r\n",
        "sesgos=np.array([1.0,1.0,1.0])\r\n",
        "np.random.seed(1)\r\n",
        "matriz3=abs(np.random.random((3,3))-1) \r\n",
        "print(matriz3)"
      ],
      "execution_count": null,
      "outputs": [
        {
          "output_type": "stream",
          "text": [
            "[[0.582978   0.27967551 0.99988563]\n",
            " [0.69766743 0.85324411 0.90766141]\n",
            " [0.81373979 0.65443927 0.60323253]]\n"
          ],
          "name": "stdout"
        }
      ]
    },
    {
      "cell_type": "code",
      "metadata": {
        "colab": {
          "base_uri": "https://localhost:8080/"
        },
        "id": "m3qKQGMsoUsy",
        "outputId": "32f5561e-c44f-4e0e-ab84-1722f2878083"
      },
      "source": [
        "compute=np.matmul(inputs3,matriz3)\r\n",
        "z=compute+sesgos\r\n",
        "z"
      ],
      "execution_count": null,
      "outputs": [
        {
          "output_type": "execute_result",
          "data": {
            "text/plain": [
              "array([3.07210875, 2.76623989, 3.48159423])"
            ]
          },
          "metadata": {
            "tags": []
          },
          "execution_count": 20
        }
      ]
    },
    {
      "cell_type": "code",
      "metadata": {
        "id": "ZxdpJdHHnnLe"
      },
      "source": [
        "# funcion softmax\r\n",
        "def softmax(x):\r\n",
        "\r\n",
        "  e_x = np.exp(x - np.max(x))\r\n",
        "  return e_x / e_x.sum(axis=0)"
      ],
      "execution_count": null,
      "outputs": []
    },
    {
      "cell_type": "code",
      "metadata": {
        "colab": {
          "base_uri": "https://localhost:8080/"
        },
        "id": "YAVs_dRinnnk",
        "outputId": "8fcbe8cb-b809-4849-d9f4-ef4ae8875dc7"
      },
      "source": [
        "ouputs=softmax(z)\r\n",
        "z"
      ],
      "execution_count": null,
      "outputs": [
        {
          "output_type": "execute_result",
          "data": {
            "text/plain": [
              "array([3.07210875, 2.76623989, 3.48159423])"
            ]
          },
          "metadata": {
            "tags": []
          },
          "execution_count": 21
        }
      ]
    },
    {
      "cell_type": "code",
      "metadata": {
        "id": "FnY8xSOKompO"
      },
      "source": [
        ""
      ],
      "execution_count": null,
      "outputs": []
    }
  ]
}